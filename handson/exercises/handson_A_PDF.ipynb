{
 "cells": [
  {
   "cell_type": "markdown",
   "id": "99a0114c",
   "metadata": {},
   "source": [
    "# Simple example: import and display some PDF data"
   ]
  },
  {
   "cell_type": "markdown",
   "id": "7e7788b9",
   "metadata": {},
   "source": [
    "Learning goals:\n",
    "- Load some simple x-y experimental data using the pandas library\n",
    "- Plot the data using the matplotlib library\n",
    "\n",
    "We will use here a PDF data set provided by Dr Adam F. Sapnik (Kopenhagen). Note that we here do not intend to interpret the displayed data, we really just want to generate a plot. That's it."
   ]
  },
  {
   "cell_type": "markdown",
   "id": "bc264ad5",
   "metadata": {},
   "source": [
    "## Load python libraries"
   ]
  },
  {
   "cell_type": "code",
   "execution_count": null,
   "id": "1cd8a62c",
   "metadata": {},
   "outputs": [],
   "source": [
    "# load numerical analysis library.\n",
    "import numpy as np\n",
    "\n",
    "# load data handling libraries.\n",
    "import pandas as pd\n",
    "\n",
    "# load plotting libraries.\n",
    "from matplotlib import pyplot as plt\n",
    "\n",
    "# file handling libraries.\n",
    "import os"
   ]
  },
  {
   "cell_type": "markdown",
   "id": "015af93f",
   "metadata": {},
   "source": [
    "## Load experimental data"
   ]
  },
  {
   "cell_type": "code",
   "execution_count": null,
   "id": "74372e33",
   "metadata": {},
   "outputs": [],
   "source": [
    "# provide the path to the data file\n",
    "fpath_data = \"./data/PDF/Pt-nanoparticles.gr\"             # this is some PDF example file provided by Dr. Adam F. Sapnik in the context of the SCS Summer School on Materials Chemistry 2025."
   ]
  },
  {
   "cell_type": "code",
   "execution_count": null,
   "id": "1f5b3780",
   "metadata": {},
   "outputs": [],
   "source": [
    "# load data from file\n",
    "data = pd.read_csv(fpath_data, skiprows=19, comment=\"#\", delimiter=\" \", header=None)                # here, we skip the first 19 lines, which are comments, and we specify that the data is space-separated.\n",
    "\n",
    "# report it\n",
    "data"
   ]
  },
  {
   "cell_type": "markdown",
   "id": "8fcc6c1f",
   "metadata": {},
   "source": [
    "## Plot"
   ]
  },
  {
   "cell_type": "code",
   "execution_count": 5,
   "id": "8962688f",
   "metadata": {},
   "outputs": [],
   "source": [
    "# Add your solution here ..."
   ]
  },
  {
   "cell_type": "markdown",
   "id": "2a61b2ee",
   "metadata": {},
   "source": [
    "The End."
   ]
  }
 ],
 "metadata": {
  "kernelspec": {
   "display_name": "Python 3",
   "language": "python",
   "name": "python3"
  },
  "language_info": {
   "codemirror_mode": {
    "name": "ipython",
    "version": 3
   },
   "file_extension": ".py",
   "mimetype": "text/x-python",
   "name": "python",
   "nbconvert_exporter": "python",
   "pygments_lexer": "ipython3",
   "version": "3.11.9"
  }
 },
 "nbformat": 4,
 "nbformat_minor": 5
}
