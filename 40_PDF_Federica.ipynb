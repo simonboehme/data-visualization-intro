{
 "cells": [
  {
   "cell_type": "markdown",
   "id": "99a0114c",
   "metadata": {},
   "source": [
    "# Importing and displaying some simple PDF data"
   ]
  },
  {
   "cell_type": "markdown",
   "id": "bc264ad5",
   "metadata": {},
   "source": [
    "## Load python libraries"
   ]
  },
  {
   "cell_type": "code",
   "execution_count": 3,
   "id": "1cd8a62c",
   "metadata": {},
   "outputs": [],
   "source": [
    "# load numerical analysis library.\n",
    "import numpy as np\n",
    "\n",
    "# load data handling libraries.\n",
    "import pandas as pd\n",
    "\n",
    "# load plotting libraries.\n",
    "import matplotlib\n",
    "from matplotlib import pyplot as plt\n",
    "\n",
    "# file handling libraries.\n",
    "import os\n",
    "from pathlib import Path"
   ]
  },
  {
   "cell_type": "markdown",
   "id": "015af93f",
   "metadata": {},
   "source": [
    "## Load experimental data"
   ]
  },
  {
   "cell_type": "code",
   "execution_count": 4,
   "id": "74372e33",
   "metadata": {},
   "outputs": [],
   "source": [
    "# provide the path to the data file\n",
    "# fpath_data = \"./data/Federica_Bertolotti/Fh.gr\"\n",
    "fpath_data = str(Path(r\"C:\\Users\\bosi\\Dropbox\\ETH\\boards\\SCS_Materials_Chemistry\\Symposium\\MatChem25\\school\\data_visualization\\data-visualization-intro\\data\\Federica_Bertolotti\\Fh.gr\"))"
   ]
  },
  {
   "cell_type": "code",
   "execution_count": 5,
   "id": "1f5b3780",
   "metadata": {},
   "outputs": [
    {
     "data": {
      "text/html": [
       "<div>\n",
       "<style scoped>\n",
       "    .dataframe tbody tr th:only-of-type {\n",
       "        vertical-align: middle;\n",
       "    }\n",
       "\n",
       "    .dataframe tbody tr th {\n",
       "        vertical-align: top;\n",
       "    }\n",
       "\n",
       "    .dataframe thead th {\n",
       "        text-align: right;\n",
       "    }\n",
       "</style>\n",
       "<table border=\"1\" class=\"dataframe\">\n",
       "  <thead>\n",
       "    <tr style=\"text-align: right;\">\n",
       "      <th></th>\n",
       "      <th>0</th>\n",
       "      <th>1</th>\n",
       "    </tr>\n",
       "  </thead>\n",
       "  <tbody>\n",
       "    <tr>\n",
       "      <th>0</th>\n",
       "      <td>0.00</td>\n",
       "      <td>0.000000e+00</td>\n",
       "    </tr>\n",
       "    <tr>\n",
       "      <th>1</th>\n",
       "      <td>0.01</td>\n",
       "      <td>2.255890e-12</td>\n",
       "    </tr>\n",
       "    <tr>\n",
       "      <th>2</th>\n",
       "      <td>0.02</td>\n",
       "      <td>1.062170e-10</td>\n",
       "    </tr>\n",
       "    <tr>\n",
       "      <th>3</th>\n",
       "      <td>0.03</td>\n",
       "      <td>1.458030e-09</td>\n",
       "    </tr>\n",
       "    <tr>\n",
       "      <th>4</th>\n",
       "      <td>0.04</td>\n",
       "      <td>9.765320e-09</td>\n",
       "    </tr>\n",
       "    <tr>\n",
       "      <th>...</th>\n",
       "      <td>...</td>\n",
       "      <td>...</td>\n",
       "    </tr>\n",
       "    <tr>\n",
       "      <th>2996</th>\n",
       "      <td>29.96</td>\n",
       "      <td>1.233940e-01</td>\n",
       "    </tr>\n",
       "    <tr>\n",
       "      <th>2997</th>\n",
       "      <td>29.97</td>\n",
       "      <td>1.369320e-01</td>\n",
       "    </tr>\n",
       "    <tr>\n",
       "      <th>2998</th>\n",
       "      <td>29.98</td>\n",
       "      <td>1.496830e-01</td>\n",
       "    </tr>\n",
       "    <tr>\n",
       "      <th>2999</th>\n",
       "      <td>29.99</td>\n",
       "      <td>1.616440e-01</td>\n",
       "    </tr>\n",
       "    <tr>\n",
       "      <th>3000</th>\n",
       "      <td>30.00</td>\n",
       "      <td>1.728060e-01</td>\n",
       "    </tr>\n",
       "  </tbody>\n",
       "</table>\n",
       "<p>3001 rows × 2 columns</p>\n",
       "</div>"
      ],
      "text/plain": [
       "          0             1\n",
       "0      0.00  0.000000e+00\n",
       "1      0.01  2.255890e-12\n",
       "2      0.02  1.062170e-10\n",
       "3      0.03  1.458030e-09\n",
       "4      0.04  9.765320e-09\n",
       "...     ...           ...\n",
       "2996  29.96  1.233940e-01\n",
       "2997  29.97  1.369320e-01\n",
       "2998  29.98  1.496830e-01\n",
       "2999  29.99  1.616440e-01\n",
       "3000  30.00  1.728060e-01\n",
       "\n",
       "[3001 rows x 2 columns]"
      ]
     },
     "execution_count": 5,
     "metadata": {},
     "output_type": "execute_result"
    }
   ],
   "source": [
    "# load data from file\n",
    "data = pd.read_csv(fpath_data, skiprows=25, comment=\"#\", delimiter=\" \", header=None)                # here, we skip the first 25 lines, which are comments, and we specify that the data is space-separated.\n",
    "\n",
    "# report it\n",
    "data"
   ]
  },
  {
   "cell_type": "markdown",
   "id": "8fcc6c1f",
   "metadata": {},
   "source": [
    "## Plot"
   ]
  },
  {
   "cell_type": "code",
   "execution_count": 8,
   "id": "be1e91ed",
   "metadata": {},
   "outputs": [
    {
     "data": {
      "image/png": "[encoded data removed]",
      "text/plain": [
       "<Figure size 800x300 with 1 Axes>"
      ]
     },
     "metadata": {},
     "output_type": "display_data"
    }
   ],
   "source": [
    "# provide some plotting parameters\n",
    "figsize = (8, 3)            # figure size in inches\n",
    "color = \"cornflowerblue\"    # color for the trace\n",
    "linewidth = 1               # line width for the trace\n",
    "label = fpath_data.split(os.sep)[-1]  # this is just to get the file name from the path, which we will use as a label\n",
    "xlabel = \"r (Å)\"            # x-axis label\n",
    "ylabel = r\"G (Å$^{2}$)\"     # y-axis label, using TeX formatting for the units\n",
    "fig_fpath = \"figure_40_PDF.png\"  # file path for the figure\n",
    "\n",
    "# plot the data\n",
    "fig, ax = plt.subplots(figsize=figsize)\n",
    "ax.plot(data[0], data[1], color=color, linewidth=linewidth, label=label)\n",
    "ax.set_xlabel(xlabel)\n",
    "ax.set_ylabel(ylabel)\n",
    "ax.legend()\n",
    "\n",
    "# save it to a file in the current working directory\n",
    "fpath_out = os.path.join(os.getcwd(), fig_fpath)\n",
    "fig.savefig(fpath_out, dpi=300, bbox_inches=\"tight\")"
   ]
  },
  {
   "cell_type": "code",
   "execution_count": null,
   "id": "2a61b2ee",
   "metadata": {},
   "outputs": [],
   "source": []
  }
 ],
 "metadata": {
  "kernelspec": {
   "display_name": "dataviz",
   "language": "python",
   "name": "python3"
  },
  "language_info": {
   "codemirror_mode": {
    "name": "ipython",
    "version": 3
   },
   "file_extension": ".py",
   "mimetype": "text/x-python",
   "name": "python",
   "nbconvert_exporter": "python",
   "pygments_lexer": "ipython3",
   "version": "3.13.5"
  }
 },
 "nbformat": 4,
 "nbformat_minor": 5
}
